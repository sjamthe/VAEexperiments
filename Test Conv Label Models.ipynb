{
 "cells": [
  {
   "cell_type": "markdown",
   "metadata": {},
   "source": [
    "# Test for autoencoder models\n",
    "* find out how good they are in separating features by labels"
   ]
  },
  {
   "cell_type": "code",
   "execution_count": 2,
   "metadata": {},
   "outputs": [],
   "source": [
    "import os\n",
    "\n",
    "import torch\n",
    "import torchvision\n",
    "from torch import nn\n",
    "from torch.autograd import Variable\n",
    "from torch.utils.data import DataLoader\n",
    "from torchvision import transforms\n",
    "from torchvision.datasets import MNIST\n",
    "from torchvision.utils import make_grid\n",
    "import math \n",
    "import numpy as np\n",
    "\n",
    "import matplotlib.pyplot as plt\n",
    "%matplotlib inline"
   ]
  },
  {
   "cell_type": "code",
   "execution_count": 3,
   "metadata": {},
   "outputs": [
    {
     "name": "stdout",
     "output_type": "stream",
     "text": [
      "Using mps device\n"
     ]
    }
   ],
   "source": [
    "device = (\n",
    "    \"cuda\"\n",
    "    if torch.cuda.is_available()\n",
    "    else \"mps\"\n",
    "    if torch.backends.mps.is_available()\n",
    "    else \"cpu\"\n",
    ")\n",
    "print(f\"Using {device} device\")"
   ]
  },
  {
   "cell_type": "code",
   "execution_count": 4,
   "metadata": {},
   "outputs": [
    {
     "data": {
      "text/plain": [
       "<torch._C.Generator at 0x10fe0fe10>"
      ]
     },
     "execution_count": 4,
     "metadata": {},
     "output_type": "execute_result"
    }
   ],
   "source": [
    "torch.manual_seed(10)"
   ]
  },
  {
   "cell_type": "code",
   "execution_count": 5,
   "metadata": {},
   "outputs": [],
   "source": [
    "def to_img(x):\n",
    "    x = 0.5 * (x + 1)\n",
    "    x = x.clamp(0, 1)\n",
    "    x = x.view(x.size(0), 1, 28, 28)\n",
    "    return x"
   ]
  },
  {
   "cell_type": "code",
   "execution_count": 6,
   "metadata": {},
   "outputs": [
    {
     "name": "stdout",
     "output_type": "stream",
     "text": [
      "Number of parameters: 9777\n"
     ]
    }
   ],
   "source": [
    "class conv_autoencoder(nn.Module):\n",
    "    def __init__(self):\n",
    "        super(conv_autoencoder, self).__init__()\n",
    "        self.encoder = nn.Sequential(\n",
    "            nn.Conv2d(1, 16, 3, stride=3, padding=1),  # b, 16, 10, 10\n",
    "            nn.ReLU(True),\n",
    "            nn.MaxPool2d(2, stride=2),  # b, 16, 5, 5\n",
    "            nn.Conv2d(16, 10, 3, stride=2, padding=1),  # b, 8, 3, 3\n",
    "            nn.ReLU(True),\n",
    "            nn.Flatten(start_dim=1),\n",
    "            nn.Linear(90,10)\n",
    "            #nn.MaxPool2d(3, stride=1)  # b, 8, 2, 2\n",
    "        )\n",
    "        self.decoder = nn.Sequential(\n",
    "            nn.ConvTranspose2d(10, 16, 5, stride=2, padding=0),  # b, 16, 5, 5\n",
    "            nn.ReLU(True),\n",
    "            nn.ConvTranspose2d(16, 8, 5, stride=3, padding=1),  # b, 8, 15, 15\n",
    "            nn.ReLU(True),\n",
    "            nn.ConvTranspose2d(8, 1, 2, stride=2, padding=1),  # b, 1, 28, 28\n",
    "            nn.Tanh()\n",
    "        )\n",
    "\n",
    "    def forward(self, x):\n",
    "        code = self.encoder(x)\n",
    "        output = self.decoder(code.unsqueeze(-1).unsqueeze(-1))\n",
    "        return code, output\n",
    "\n",
    "# Load model from file\n",
    "model = conv_autoencoder()\n",
    "model_file =  '../conv_label_autoencoder.pth'\n",
    "model.load_state_dict(torch.load(model_file))\n",
    "\n",
    "num_params = sum(p.numel() for p in model.parameters())\n",
    "print(f'Number of parameters: {num_params}')"
   ]
  },
  {
   "cell_type": "code",
   "execution_count": 9,
   "metadata": {},
   "outputs": [
    {
     "name": "stdout",
     "output_type": "stream",
     "text": [
      "dataset size: 10000\n"
     ]
    }
   ],
   "source": [
    "# MNIST data\n",
    "\n",
    "img_transform = transforms.Compose([\n",
    "    transforms.ToTensor(),\n",
    "    transforms.Normalize([0.5], [0.5])\n",
    "])\n",
    "\n",
    "batch_size = 1000\n",
    "\n",
    "dataset = MNIST('./data',train=False, transform=img_transform, download=False)\n",
    "print(\"dataset size:\",len(dataset))\n",
    "dataloader = DataLoader(dataset, batch_size=batch_size, shuffle=True)\n"
   ]
  },
  {
   "cell_type": "code",
   "execution_count": 76,
   "metadata": {},
   "outputs": [],
   "source": [
    "from collections import defaultdict\n",
    "\n",
    "def init_array_of_arrays():\n",
    "    return np.empty((0, 10))  # Example array with initial shape (0, 3)\n",
    "\n",
    "data = defaultdict(init_array_of_arrays)"
   ]
  },
  {
   "cell_type": "code",
   "execution_count": 78,
   "metadata": {},
   "outputs": [
    {
     "name": "stdout",
     "output_type": "stream",
     "text": [
      "Accuracy of the network on the 10000 test images: 96 %\n"
     ]
    }
   ],
   "source": [
    "# Evaluate label prediction\n",
    "correct = 0\n",
    "total = 0\n",
    "for input_data in dataloader:\n",
    "    img, label = input_data\n",
    "     #img = img.view(img.size(0), -1)\n",
    "    with torch.no_grad():\n",
    "        code, output = model(img)\n",
    "    \n",
    "        _, predicted = torch.max(code.data, 1)\n",
    "        total += label.size(0)\n",
    "        correct += (predicted == label).sum().item()\n",
    "        #store the code\n",
    "        for i in range(label.shape[0]):\n",
    "            if data[label[i].item()].shape[0] > 0:\n",
    "                data[label[i].item()] = np.concatenate((data[label[i].item()],\n",
    "                                                        np.array([code[i].data.numpy()])), axis=0)\n",
    "            else:\n",
    "                data[label[i].item()] = np.array([code[i].data.numpy()])\n",
    "            \n",
    "print('Accuracy of the network on the 10000 test images: %d %%' % (\n",
    "    100 * correct / total))\n"
   ]
  },
  {
   "cell_type": "code",
   "execution_count": 79,
   "metadata": {},
   "outputs": [
    {
     "name": "stdout",
     "output_type": "stream",
     "text": [
      "label: 0, size: (981, 10) \n",
      "label: 1, size: (1136, 10) \n",
      "label: 2, size: (1032, 10) \n",
      "label: 3, size: (1010, 10) \n",
      "label: 4, size: (982, 10) \n",
      "label: 5, size: (892, 10) \n",
      "label: 6, size: (958, 10) \n",
      "label: 7, size: (1028, 10) \n",
      "label: 8, size: (974, 10) \n",
      "label: 9, size: (1010, 10) \n"
     ]
    }
   ],
   "source": [
    "for i in range(10):\n",
    "    print(f\"label: {i}, size: {data[i].shape} \")"
   ]
  },
  {
   "cell_type": "code",
   "execution_count": 89,
   "metadata": {},
   "outputs": [
    {
     "name": "stdout",
     "output_type": "stream",
     "text": [
      "label: 0, mean: [ 15.060213   -19.715233     3.3964303   -4.1908135   -8.436112\n",
      "  -1.381752     2.7266796   -3.4283938   -0.91075903   0.17979996]\n",
      "label: 0, std: [4.32657   7.11089   2.9728754 3.112837  5.658925  5.04831   4.5709357\n",
      " 3.4372334 3.7053025 3.3971958]\n",
      "label: 1, mean: [-6.8056445  6.5240345 -3.4126463 -5.3105955 -4.633133  -7.058495\n",
      " -6.4737463 -3.685997  -4.4920764 -6.9983225]\n",
      "label: 1, std: [3.260964  1.9264448 2.2157686 2.126326  2.6104124 2.034077  3.9711552\n",
      " 2.7554238 2.423274  2.2176034]\n",
      "label: 2, mean: [-3.2025537  -0.6817736  13.056393    1.7160182  -7.6133404  -8.901225\n",
      " -7.6996164  -2.141835    0.07903981 -7.7821555 ]\n",
      "label: 2, std: [4.1265435 5.466594  4.1473074 3.4378006 5.970313  3.4804626 4.8332133\n",
      " 4.7786345 3.3713665 4.1203375]\n",
      "label: 3, mean: [ -9.447454    -9.005021    -0.07030617  12.338881   -13.416574\n",
      "   2.7439902  -10.905324    -3.956832     1.2235962   -0.9495614 ]\n",
      "label: 3, std: [5.7397327 4.574866  3.6093395 3.7991183 4.224312  3.6626086 6.1242976\n",
      " 4.419434  3.0835912 3.5502198]\n",
      "label: 4, mean: [-8.711818  -8.029598  -5.1899953 -6.901304  10.78485   -6.5220637\n",
      " -6.844672   1.7612622 -2.9483304  1.0028273]\n",
      "label: 4, std: [6.037876  4.658282  3.9539359 3.3732593 4.0170918 3.606912  5.3187027\n",
      " 3.5385933 3.2524335 3.761081 ]\n",
      "label: 5, mean: [ -6.7288165 -12.845471   -7.486739    2.5688543 -10.686839   12.654048\n",
      "  -2.1929255  -8.444286    1.8020327  -1.8759394]\n",
      "label: 5, std: [4.913581  6.455018  4.3010354 4.713242  4.765521  4.225703  5.691541\n",
      " 4.7549872 3.4340293 4.6809154]\n",
      "label: 6, mean: [  1.0882031  -11.647901    -0.40200987  -5.11611     -0.9173508\n",
      "   0.88171446  13.747821   -14.170442    -2.1809003   -6.409425  ]\n",
      "label: 6, std: [4.295987  6.73041   3.108636  3.3453553 4.1206126 4.4657326 4.379115\n",
      " 5.401091  4.0147758 3.1152093]\n",
      "label: 7, mean: [ -6.6426706  -2.1371503  -1.8940037   1.8004907  -6.975295   -4.9834256\n",
      " -22.524391   12.203583   -4.8152256   1.1197549]\n",
      "label: 7, std: [4.7366333 4.387058  4.074775  3.5320969 5.3815327 3.0021222 6.109493\n",
      " 3.9573765 3.615205  3.690394 ]\n",
      "label: 8, mean: [ -6.5214505  -10.262808    -0.8443895    0.75844103  -8.112818\n",
      "  -0.7464516   -4.542139    -6.2076955   10.6241045   -1.8541241 ]\n",
      "label: 8, std: [5.241272  5.7129283 3.523758  3.7645986 4.4633284 4.0186925 5.4431696\n",
      " 4.360205  3.2364793 4.094782 ]\n",
      "label: 9, mean: [-10.241266   -13.480442    -7.8108892   -0.43548867   1.7763467\n",
      "  -0.6982948  -15.3767       1.8937773    0.05883492  10.798038  ]\n",
      "label: 9, std: [5.639182  5.5698776 4.395165  3.1017284 3.600851  3.2374613 5.605751\n",
      " 3.1405609 2.766967  3.510479 ]\n"
     ]
    }
   ],
   "source": [
    "for i in range(0,10):\n",
    "    print(f\"label: {i}, mean: {data[i].mean(axis=0)}\")\n",
    "    print(f\"label: {i}, std: {data[i].std(axis=0)}\")\n"
   ]
  },
  {
   "cell_type": "code",
   "execution_count": 95,
   "metadata": {},
   "outputs": [
    {
     "name": "stdout",
     "output_type": "stream",
     "text": [
      "torch.Size([1, 10]) torch.Size([1, 1, 28, 28])\n"
     ]
    },
    {
     "data": {
      "text/plain": [
       "<matplotlib.image.AxesImage at 0x2a28de7a0>"
      ]
     },
     "execution_count": 95,
     "metadata": {},
     "output_type": "execute_result"
    },
    {
     "data": {
      "image/png": "[encoded data removed]",
      "text/plain": [
       "<Figure size 640x480 with 2 Axes>"
      ]
     },
     "metadata": {},
     "output_type": "display_data"
    }
   ],
   "source": [
    "# Draw sample image\n",
    "sample = img[0]\n",
    "with torch.no_grad():\n",
    "    code, output = model(img[0:1])\n",
    "print(code.shape, output.shape)\n",
    "\n",
    "fig, (ax1, ax2) = plt.subplots(1, 2)\n",
    "ax1.set_title(f\"Input image\")\n",
    "ax1.imshow(sample.squeeze(), cmap='gray')\n",
    "ax2.set_title(f\"Output image\")\n",
    "ax2.imshow(output.squeeze(), cmap='gray')"
   ]
  },
  {
   "cell_type": "code",
   "execution_count": 121,
   "metadata": {},
   "outputs": [
    {
     "name": "stdout",
     "output_type": "stream",
     "text": [
      "torch.Size([1, 10]) tensor([[ -6.5215, -10.2628,  -0.8444,   0.7584,  -8.1128,  -0.7465,  -4.5421,\n",
      "          -6.2077,  10.6241,  -1.8541]])\n",
      "torch.Size([1, 10]) tensor([[-10.2413, -13.4804,  -7.8109,  -0.4355,   1.7763,  -0.6983, -15.3767,\n",
      "           1.8938,   0.0588,  10.7980]])\n",
      "torch.Size([1, 10, 1, 1])\n"
     ]
    },
    {
     "data": {
      "text/plain": [
       "<matplotlib.image.AxesImage at 0x2a3d10370>"
      ]
     },
     "execution_count": 121,
     "metadata": {},
     "output_type": "execute_result"
    },
    {
     "data": {
      "image/png": "[encoded data removed]",
      "text/plain": [
       "<Figure size 640x480 with 2 Axes>"
      ]
     },
     "metadata": {},
     "output_type": "display_data"
    }
   ],
   "source": [
    "print(code.shape, code)\n",
    "# modify code with mean 0\n",
    "code[0] = torch.Tensor(data[9].mean(axis=0))\n",
    "print(code.shape, code)\n",
    "\n",
    "# feed it back to model\n",
    "code_in = code.unsqueeze(-1).unsqueeze(-1)\n",
    "print(code_in.shape)\n",
    "with torch.no_grad():\n",
    "    new_output = model.decoder(code.unsqueeze(-1).unsqueeze(-1))\n",
    "fig, (ax1, ax2) = plt.subplots(1, 2)\n",
    "ax1.set_title(f\"Output image\")\n",
    "ax1.imshow(output.squeeze(), cmap='gray')\n",
    "ax2.set_title(f\"Modified code image\")\n",
    "ax2.imshow(new_output.squeeze(), cmap='gray')"
   ]
  },
  {
   "cell_type": "markdown",
   "metadata": {},
   "source": [
    "# END\n",
    "* DEBUG below"
   ]
  }
 ],
 "metadata": {
  "kernelspec": {
   "display_name": "base",
   "language": "python",
   "name": "python3"
  },
  "language_info": {
   "codemirror_mode": {
    "name": "ipython",
    "version": 3
   },
   "file_extension": ".py",
   "mimetype": "text/x-python",
   "name": "python",
   "nbconvert_exporter": "python",
   "pygments_lexer": "ipython3",
   "version": "3.10.10"
  }
 },
 "nbformat": 4,
 "nbformat_minor": 2
}
